{
 "cells": [
  {
   "cell_type": "code",
   "execution_count": 2,
   "metadata": {},
   "outputs": [
    {
     "name": "stdout",
     "output_type": "stream",
     "text": [
      "Imports Done\n"
     ]
    }
   ],
   "source": [
    "import xlwt #pandasla excele yazmaq ucun pip install etmisem burda da import edirem.\n",
    "import numpy as np\n",
    "import pandas as pd\n",
    "#import json\n",
    "import time\n",
    "import requests\n",
    "#import bs4\n",
    "import selenium\n",
    "from selenium.webdriver import Chrome\n",
    "from selenium.webdriver.chrome.options import Options\n",
    "from selenium.webdriver.common.by import By\n",
    "from selenium.webdriver.support import expected_conditions as EC\n",
    "from selenium.webdriver.support.wait import WebDriverWait\n",
    "#from selenium.webdriver import Firefox\n",
    "#from selenium.webdriver.firefox.options import Options\n",
    "import selenium.common.exceptions\n",
    "print(\"Imports Done\")"
   ]
  },
  {
   "cell_type": "code",
   "execution_count": 35,
   "metadata": {},
   "outputs": [
    {
     "name": "stdout",
     "output_type": "stream",
     "text": [
      "az.wikipedia.org › wiki › Monitor\n",
      "\n",
      "kontakt.az › komputerler › monitor\n",
      "\n",
      "compstore.az › monitori\n",
      "\n",
      "Bu səhifəni tərcümə etməli\n",
      "icomp.az › monitorlar\n",
      "\n",
      "www.megamart.az › ﻿Ana səhifə › Kompüter avadanlıqları\n",
      "\n",
      "www.hepsiburada.com › moni...\n",
      "\n",
      "Bu səhifəni tərcümə etməli\n",
      "www.amazon.com › Monitors...\n",
      "\n",
      "Bu səhifəni tərcümə etməli\n",
      "aem-elektron.az › monitor\n",
      "\n",
      "www.bakuelectronics.az › noutbuklar-komputerler › m...\n",
      "\n"
     ]
    }
   ],
   "source": [
    "options=Options()\n",
    "options.binary_location='C:\\Program Files\\Google\\Chrome\\Application\\chrome.exe'\n",
    "browser=Chrome(executable_path='chromedriver.exe', options=options)\n",
    "domain=\"https:www.google.az\"\n",
    "browser.get(domain)\n",
    "element=browser.find_element_by_name(\"q\")\n",
    "element.send_keys(\"monitor\\n\")\n",
    "try:\n",
    "    element.submit()\n",
    "except:\n",
    "    \"Error\"\n",
    "    rs=browser.find_elements_by_class_name(\"iUh30\")\n",
    "    for i in rs:\n",
    "        print (i.text)\n"
   ]
  },
  {
   "cell_type": "code",
   "execution_count": 34,
   "metadata": {
    "collapsed": true,
    "jupyter": {
     "outputs_hidden": true
    }
   },
   "outputs": [
    {
     "name": "stdout",
     "output_type": "stream",
     "text": [
      "az.wikipedia.org › wiki › Monitor\n",
      "\n",
      "kontakt.az › komputerler › monitor\n",
      "\n",
      "compstore.az › monitori\n",
      "\n",
      "Bu səhifəni tərcümə etməli\n",
      "icomp.az › monitorlar\n",
      "\n",
      "www.megamart.az › ﻿Ana səhifə › Kompüter avadanlıqları\n",
      "\n",
      "www.hepsiburada.com › moni...\n",
      "\n",
      "Bu səhifəni tərcümə etməli\n",
      "aem-elektron.az › monitor\n",
      "\n",
      "www.amazon.com › Monitors...\n",
      "\n",
      "Bu səhifəni tərcümə etməli\n",
      "www.bakuelectronics.az › noutbuklar-komputerler › m...\n",
      "\n"
     ]
    }
   ],
   "source": [
    "\n"
   ]
  },
  {
   "cell_type": "code",
   "execution_count": null,
   "metadata": {},
   "outputs": [],
   "source": []
  }
 ],
 "metadata": {
  "kernelspec": {
   "display_name": "Python 3",
   "language": "python",
   "name": "python3"
  },
  "language_info": {
   "codemirror_mode": {
    "name": "ipython",
    "version": 3
   },
   "file_extension": ".py",
   "mimetype": "text/x-python",
   "name": "python",
   "nbconvert_exporter": "python",
   "pygments_lexer": "ipython3",
   "version": "3.7.9"
  }
 },
 "nbformat": 4,
 "nbformat_minor": 4
}
